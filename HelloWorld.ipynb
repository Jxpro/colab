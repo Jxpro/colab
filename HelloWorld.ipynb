{
  "nbformat": 4,
  "nbformat_minor": 0,
  "metadata": {
    "colab": {
      "name": "HelloWorld.ipynb",
      "provenance": [],
      "collapsed_sections": [],
      "authorship_tag": "ABX9TyPiYjPA9HL9OwRcdPn/2YjD",
      "include_colab_link": true
    },
    "kernelspec": {
      "name": "python3",
      "display_name": "Python 3"
    },
    "language_info": {
      "name": "python"
    }
  },
  "cells": [
    {
      "cell_type": "markdown",
      "metadata": {
        "id": "view-in-github",
        "colab_type": "text"
      },
      "source": [
        "<a href=\"https://colab.research.google.com/github/Jxpro/Colab/blob/main/HelloWorld.ipynb\" target=\"_parent\"><img src=\"https://colab.research.google.com/assets/colab-badge.svg\" alt=\"Open In Colab\"/></a>"
      ]
    },
    {
      "cell_type": "markdown",
      "source": [
        "# Hello World"
      ],
      "metadata": {
        "id": "uKrTmtM0hsdZ"
      }
    },
    {
      "cell_type": "code",
      "execution_count": 4,
      "metadata": {
        "colab": {
          "base_uri": "https://localhost:8080/"
        },
        "id": "mKm81gA9PYGy",
        "outputId": "826c4e48-e6b7-4750-ce32-acee0aaa5716"
      },
      "outputs": [
        {
          "output_type": "stream",
          "name": "stdout",
          "text": [
            "HelloWorld!\n",
            "tf.Tensor(b'HelloWorld!', shape=(), dtype=string)\n",
            "2.8.0\n"
          ]
        }
      ],
      "source": [
        "import time\n",
        "import tensorflow as tf\n",
        "\n",
        "h = tf.constant('Hello')\n",
        "w = tf.constant('World!')\n",
        "\n",
        "hw = h + w\n",
        "tf.print(hw)\n",
        "\n",
        "print(hw)\n",
        "print(tf.__version__)\n"
      ]
    },
    {
      "cell_type": "markdown",
      "source": [
        "# operation"
      ],
      "metadata": {
        "id": "nMn2Gtq3i8_L"
      }
    },
    {
      "cell_type": "code",
      "source": [
        "import tensorflow as tf\n",
        "\n",
        "a = tf.constant(4, name='a')\n",
        "b = tf.constant(2, name='b')\n",
        "c = tf.multiply(a, b, name='c')\n",
        "d = tf.add(a, b, name='d')\n",
        "e = tf.add(c, d, name='e')\n",
        "\n",
        "print(e)\n"
      ],
      "metadata": {
        "colab": {
          "base_uri": "https://localhost:8080/"
        },
        "id": "U_DIW5OCjMGA",
        "outputId": "31a8b310-f26a-4ed7-8bcb-e7e6c8399c50"
      },
      "execution_count": 5,
      "outputs": [
        {
          "output_type": "stream",
          "name": "stdout",
          "text": [
            "tf.Tensor(14, shape=(), dtype=int32)\n"
          ]
        }
      ]
    }
  ]
}